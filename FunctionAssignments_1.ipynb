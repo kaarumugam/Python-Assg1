{
  "nbformat": 4,
  "nbformat_minor": 0,
  "metadata": {
    "colab": {
      "provenance": []
    },
    "kernelspec": {
      "name": "python3",
      "display_name": "Python 3"
    },
    "language_info": {
      "name": "python"
    }
  },
  "cells": [
    {
      "cell_type": "code",
      "execution_count": null,
      "metadata": {
        "id": "K8yLVrS2jIOI",
        "colab": {
          "base_uri": "https://localhost:8080/"
        },
        "outputId": "a7d736d4-61dc-470b-d5c4-9e8110ed0124"
      },
      "outputs": [
        {
          "output_type": "stream",
          "name": "stdout",
          "text": [
            "Welcome to Assignment -1\n"
          ]
        }
      ],
      "source": [
        "print(\"Welcome to Assignment -1\")"
      ]
    },
    {
      "cell_type": "code",
      "source": [],
      "metadata": {
        "id": "-s07tE6ZlgPy"
      },
      "execution_count": null,
      "outputs": []
    },
    {
      "cell_type": "code",
      "source": [
        "Num1 = 10\n",
        "Num2 = 30\n",
        "Add = 40\n",
        "# Add two numbers\n",
        "sum = Num1 + Num2\n",
        "# Display the sum\n",
        "print('Num1=10 Num2=30 Add= 40'.format(Num1, Num2, sum))"
      ],
      "metadata": {
        "colab": {
          "base_uri": "https://localhost:8080/"
        },
        "id": "axnbkVC7qkLn",
        "outputId": "96df07e5-84a0-4c5c-82d5-7b6e9f8b2235"
      },
      "execution_count": null,
      "outputs": [
        {
          "output_type": "stream",
          "name": "stdout",
          "text": [
            "Num1=10 Num2=30 Add= 40\n"
          ]
        }
      ]
    },
    {
      "cell_type": "code",
      "source": [],
      "metadata": {
        "id": "dDZOhE5tljFx"
      },
      "execution_count": null,
      "outputs": []
    },
    {
      "cell_type": "code",
      "source": [
        "age= int(input(\"Enter the BMI Index : \"))\n",
        "if age >=30:\n",
        "\tstatus= \"Healthy\"\n",
        "else:\n",
        "\tstatus=\"UnHealthy\"\n",
        "print(\"Very Overweight.\")"
      ],
      "metadata": {
        "colab": {
          "base_uri": "https://localhost:8080/"
        },
        "id": "78VCde5ItyiF",
        "outputId": "9c3a6ffb-d28c-4ed6-db0c-cb5b8d35853c"
      },
      "execution_count": null,
      "outputs": [
        {
          "output_type": "stream",
          "name": "stdout",
          "text": [
            "Enter the BMI Index : 34\n",
            "Very Overweight.\n"
          ]
        }
      ]
    },
    {
      "cell_type": "code",
      "source": [
        "print(\"HOPE AI\")"
      ],
      "metadata": {
        "id": "SqN8L6SIjLDw",
        "colab": {
          "base_uri": "https://localhost:8080/"
        },
        "outputId": "e584d521-e665-4a7c-badd-0922260df673"
      },
      "execution_count": null,
      "outputs": [
        {
          "output_type": "stream",
          "name": "stdout",
          "text": [
            "HOPE AI\n"
          ]
        }
      ]
    },
    {
      "cell_type": "code",
      "source": [
        "name = input(\"Enter your name: \")\n",
        "age = input(\"Enter your age: \")\n",
        "school = input(\"Enter your school name: \")\n",
        "degree = input(\"Enter your degree: \")\n",
        "print(\"Hi, my name is \" + name + \", and I am \" + age + \" years old.\")"
      ],
      "metadata": {
        "colab": {
          "base_uri": "https://localhost:8080/"
        },
        "id": "7nmt9_rDlvRU",
        "outputId": "9f9827c1-2a16-4a65-c259-b65472188c3b"
      },
      "execution_count": null,
      "outputs": [
        {
          "output_type": "stream",
          "name": "stdout",
          "text": [
            "Enter your name: karthik\n",
            "Enter your age: 45\n",
            "Enter your school name: Prince\n",
            "Enter your degree: MCA\n",
            "Hi, my name is karthik, and I am 45 years old.\n"
          ]
        }
      ]
    },
    {
      "cell_type": "code",
      "source": [],
      "metadata": {
        "id": "8T1giecSnxwJ"
      },
      "execution_count": null,
      "outputs": []
    },
    {
      "cell_type": "code",
      "source": [
        "a = 43\n",
        "b = 34\n",
        "\n",
        "# Adding two nos\n",
        "sum = a + b\n",
        "\n",
        "# printing values\n",
        "print(\"Sum of\", a, \"and\", b , \"is\", sum)"
      ],
      "metadata": {
        "id": "G0Jg10WSm_De"
      },
      "execution_count": null,
      "outputs": []
    },
    {
      "cell_type": "code",
      "source": [
        "a= 76\n",
        "b= 31\n",
        "print(\"Float Div: \",a//b)"
      ],
      "metadata": {
        "colab": {
          "base_uri": "https://localhost:8080/"
        },
        "id": "pk8VO7hYvsfQ",
        "outputId": "8056d5c8-f9dc-4f3f-b9be-6df384447fd1"
      },
      "execution_count": null,
      "outputs": [
        {
          "output_type": "stream",
          "name": "stdout",
          "text": [
            "Float Div:  2\n"
          ]
        }
      ]
    },
    {
      "cell_type": "code",
      "source": [
        "for i in range(20):\n",
        "    print(i, end=\" \")\n",
        "print()"
      ],
      "metadata": {
        "colab": {
          "base_uri": "https://localhost:8080/"
        },
        "id": "Ggb_Vno13qYe",
        "outputId": "67c64155-becb-41ab-d87f-013a4f9e4c1b"
      },
      "execution_count": null,
      "outputs": [
        {
          "output_type": "stream",
          "name": "stdout",
          "text": [
            "0 1 2 3 4 5 6 7 8 9 10 11 12 13 14 15 16 17 18 19 \n"
          ]
        }
      ]
    },
    {
      "cell_type": "code",
      "source": [
        "for i in range(10, 20, 1):\n",
        "    print(i, end=\" \")\n",
        "print()"
      ],
      "metadata": {
        "colab": {
          "base_uri": "https://localhost:8080/"
        },
        "id": "X217bLqM43tw",
        "outputId": "42a38ed6-6f31-411e-bf36-32874d1872ae"
      },
      "execution_count": null,
      "outputs": [
        {
          "output_type": "stream",
          "name": "stdout",
          "text": [
            "10 11 12 13 14 15 16 17 18 19 \n"
          ]
        }
      ]
    },
    {
      "cell_type": "code",
      "source": [
        "elem_list = [10,20,14,55,43,87,76]\n",
        "print(elem_list)\n",
        "print(\"Number of item in the List2:\", len(elem_list))"
      ],
      "metadata": {
        "colab": {
          "base_uri": "https://localhost:8080/"
        },
        "id": "7sH7bjWC-gXB",
        "outputId": "837f903a-5db7-466f-c26e-03bdbc61c317"
      },
      "execution_count": null,
      "outputs": [
        {
          "output_type": "stream",
          "name": "stdout",
          "text": [
            "[10, 20, 14, 55, 43, 87, 76]\n",
            "Number of item in the List2: 7\n"
          ]
        }
      ]
    },
    {
      "cell_type": "code",
      "source": [],
      "metadata": {
        "id": "jaoZ1JufnM_E"
      },
      "execution_count": null,
      "outputs": []
    },
    {
      "cell_type": "code",
      "source": [
        "num = int(input(\"Enter a number: \"))\n",
        "if (num % 2) == 0:\n",
        "   print(\"{0} is Even number\".format(num))\n",
        "else:\n",
        "   print(\"{0} is Odd number\".format(num))"
      ],
      "metadata": {
        "colab": {
          "base_uri": "https://localhost:8080/"
        },
        "id": "GL6UXrRligsu",
        "outputId": "f98f37d5-9602-4249-d181-c1a4913e43c6"
      },
      "execution_count": null,
      "outputs": [
        {
          "output_type": "stream",
          "name": "stdout",
          "text": [
            "Enter a number: 4\n",
            "4 is Even number\n"
          ]
        }
      ]
    },
    {
      "cell_type": "code",
      "source": [
        "gen=input(\"Your gender : \")\n",
        "\n",
        "age=int(input(\"Your Age : \"))\n",
        "\n",
        "if(gen==\"male\"):\n",
        "         if(age>=21):\n",
        "                print(\"Eligible  \",age);\n",
        "\n",
        "         else:\n",
        "            print(\"Not Eligible \",age);\n",
        "else:\n",
        "     if(age>=18):\n",
        "             print(\"Eligible  \",age);\n",
        "\n",
        "     else:\n",
        "        print(\"Not Eligible \",age);"
      ],
      "metadata": {
        "colab": {
          "base_uri": "https://localhost:8080/"
        },
        "id": "CFaRvz7J48KQ",
        "outputId": "99f5e325-20ab-4503-ab8a-54c2881fcfca"
      },
      "execution_count": 3,
      "outputs": [
        {
          "output_type": "stream",
          "name": "stdout",
          "text": [
            "Your gender : Male\n",
            "Your Age : 17\n",
            "Not Eligible  17\n"
          ]
        }
      ]
    },
    {
      "cell_type": "code",
      "source": [
        "\n",
        "subject1 = input(\"Subject1 : \")\n",
        "subject2 = input(\"Subject2 : \")\n",
        "subject3 = input(\"Subject3 : \")\n",
        "subject4 = input(\"Subject4 : \")\n",
        "subject5 = input(\"Subject5 : \")\n",
        "\n",
        "total, average, percentage, grade = None, None, None, None\n",
        "\n",
        "# It will calculate the Total, Average and Percentage\n",
        "total = subject_1 + subject_2 + subject_3 + subject_4 + subject_5\n",
        "average = total / 5.0\n",
        "percentage = (total / 500.0) * 100\n",
        "\n",
        "if average >= 90:\n",
        "    grade = 'A'\n",
        "elif average >= 80 and average < 90:\n",
        "    grade = 'B'\n",
        "elif average >= 70 and average < 80:\n",
        "    grade = 'C'\n",
        "elif average >= 60 and average < 70:\n",
        "    grade = 'D'\n",
        "else:\n",
        "    grade = 'E'\n",
        "\n",
        "# It will produce the final output\n",
        "print (\"\\nTotal:   \\t\", total, \"/ 500.00\")\n",
        "print (\"\\nPercentage:    \\t\", percentage, \"%\")\n"
      ],
      "metadata": {
        "colab": {
          "base_uri": "https://localhost:8080/"
        },
        "id": "X4nR6jYcDYaw",
        "outputId": "dd9a7b85-316b-4752-c8a9-fab9552cdaac"
      },
      "execution_count": 7,
      "outputs": [
        {
          "output_type": "stream",
          "name": "stdout",
          "text": [
            "Subject1 : 10\n",
            "Subject2 : 20\n",
            "Subject3 : 30\n",
            "Subject4 : 40\n",
            "Subject5 : 50\n",
            "\n",
            "Total:   \t 340.0 / 500.00\n",
            "\n",
            "Percentage:    \t 68.0 %\n"
          ]
        }
      ]
    },
    {
      "cell_type": "markdown",
      "source": [],
      "metadata": {
        "id": "xVFua78HjOa7"
      }
    }
  ]
}