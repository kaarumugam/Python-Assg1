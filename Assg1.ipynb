{
  "nbformat": 4,
  "nbformat_minor": 0,
  "metadata": {
    "colab": {
      "provenance": []
    },
    "kernelspec": {
      "name": "python3",
      "display_name": "Python 3"
    },
    "language_info": {
      "name": "python"
    }
  },
  "cells": [
    {
      "cell_type": "code",
      "execution_count": null,
      "metadata": {
        "id": "K8yLVrS2jIOI",
        "colab": {
          "base_uri": "https://localhost:8080/"
        },
        "outputId": "a7d736d4-61dc-470b-d5c4-9e8110ed0124"
      },
      "outputs": [
        {
          "output_type": "stream",
          "name": "stdout",
          "text": [
            "Welcome to Assignment -1\n"
          ]
        }
      ],
      "source": [
        "print(\"Welcome to Assignment -1\")"
      ]
    },
    {
      "cell_type": "code",
      "source": [
        "Num1 = 10\n",
        "Num2 = 30\n",
        "Add = 40\n",
        "# Add two numbers\n",
        "sum = Num1 + Num2\n",
        "# Display the sum\n",
        "print('Num1=10 Num2=30 Add= 40'.format(Num1, Num2, sum))"
      ],
      "metadata": {
        "colab": {
          "base_uri": "https://localhost:8080/"
        },
        "id": "axnbkVC7qkLn",
        "outputId": "96df07e5-84a0-4c5c-82d5-7b6e9f8b2235"
      },
      "execution_count": null,
      "outputs": [
        {
          "output_type": "stream",
          "name": "stdout",
          "text": [
            "Num1=10 Num2=30 Add= 40\n"
          ]
        }
      ]
    },
    {
      "cell_type": "code",
      "source": [
        "age= int(input(\"Enter the BMI Index : \"))\n",
        "if age >=30:\n",
        "\tstatus= \"Healthy\"\n",
        "else:\n",
        "\tstatus=\"UnHealthy\"\n",
        "print(\"Very Overweight.\")"
      ],
      "metadata": {
        "colab": {
          "base_uri": "https://localhost:8080/"
        },
        "id": "78VCde5ItyiF",
        "outputId": "9c3a6ffb-d28c-4ed6-db0c-cb5b8d35853c"
      },
      "execution_count": null,
      "outputs": [
        {
          "output_type": "stream",
          "name": "stdout",
          "text": [
            "Enter the BMI Index : 34\n",
            "Very Overweight.\n"
          ]
        }
      ]
    },
    {
      "cell_type": "code",
      "source": [],
      "metadata": {
        "id": "SqN8L6SIjLDw"
      },
      "execution_count": null,
      "outputs": []
    },
    {
      "cell_type": "markdown",
      "source": [],
      "metadata": {
        "id": "xVFua78HjOa7"
      }
    }
  ]
}