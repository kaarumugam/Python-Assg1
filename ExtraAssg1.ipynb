{
  "nbformat": 4,
  "nbformat_minor": 0,
  "metadata": {
    "colab": {
      "provenance": []
    },
    "kernelspec": {
      "name": "python3",
      "display_name": "Python 3"
    },
    "language_info": {
      "name": "python"
    }
  },
  "cells": [
    {
      "cell_type": "code",
      "execution_count": null,
      "metadata": {
        "id": "K8yLVrS2jIOI",
        "colab": {
          "base_uri": "https://localhost:8080/"
        },
        "outputId": "a7d736d4-61dc-470b-d5c4-9e8110ed0124"
      },
      "outputs": [
        {
          "output_type": "stream",
          "name": "stdout",
          "text": [
            "Welcome to Assignment -1\n"
          ]
        }
      ],
      "source": [
        "print(\"Welcome to Assignment -1\")"
      ]
    },
    {
      "cell_type": "code",
      "source": [],
      "metadata": {
        "id": "-s07tE6ZlgPy"
      },
      "execution_count": null,
      "outputs": []
    },
    {
      "cell_type": "code",
      "source": [
        "Num1 = 10\n",
        "Num2 = 30\n",
        "Add = 40\n",
        "# Add two numbers\n",
        "sum = Num1 + Num2\n",
        "# Display the sum\n",
        "print('Num1=10 Num2=30 Add= 40'.format(Num1, Num2, sum))"
      ],
      "metadata": {
        "colab": {
          "base_uri": "https://localhost:8080/"
        },
        "id": "axnbkVC7qkLn",
        "outputId": "96df07e5-84a0-4c5c-82d5-7b6e9f8b2235"
      },
      "execution_count": null,
      "outputs": [
        {
          "output_type": "stream",
          "name": "stdout",
          "text": [
            "Num1=10 Num2=30 Add= 40\n"
          ]
        }
      ]
    },
    {
      "cell_type": "code",
      "source": [],
      "metadata": {
        "id": "dDZOhE5tljFx"
      },
      "execution_count": null,
      "outputs": []
    },
    {
      "cell_type": "code",
      "source": [
        "age= int(input(\"Enter the BMI Index : \"))\n",
        "if age >=30:\n",
        "\tstatus= \"Healthy\"\n",
        "else:\n",
        "\tstatus=\"UnHealthy\"\n",
        "print(\"Very Overweight.\")"
      ],
      "metadata": {
        "colab": {
          "base_uri": "https://localhost:8080/"
        },
        "id": "78VCde5ItyiF",
        "outputId": "9c3a6ffb-d28c-4ed6-db0c-cb5b8d35853c"
      },
      "execution_count": null,
      "outputs": [
        {
          "output_type": "stream",
          "name": "stdout",
          "text": [
            "Enter the BMI Index : 34\n",
            "Very Overweight.\n"
          ]
        }
      ]
    },
    {
      "cell_type": "code",
      "source": [
        "print(\"HOPE AI\")"
      ],
      "metadata": {
        "id": "SqN8L6SIjLDw",
        "colab": {
          "base_uri": "https://localhost:8080/"
        },
        "outputId": "e584d521-e665-4a7c-badd-0922260df673"
      },
      "execution_count": 1,
      "outputs": [
        {
          "output_type": "stream",
          "name": "stdout",
          "text": [
            "HOPE AI\n"
          ]
        }
      ]
    },
    {
      "cell_type": "code",
      "source": [
        "name = input(\"Enter your name: \")\n",
        "age = input(\"Enter your age: \")\n",
        "school = input(\"Enter your school name: \")\n",
        "degree = input(\"Enter your degree: \")\n",
        "print(\"Hi, my name is \" + name + \", and I am \" + age + \" years old.\")"
      ],
      "metadata": {
        "colab": {
          "base_uri": "https://localhost:8080/"
        },
        "id": "7nmt9_rDlvRU",
        "outputId": "9f9827c1-2a16-4a65-c259-b65472188c3b"
      },
      "execution_count": 10,
      "outputs": [
        {
          "output_type": "stream",
          "name": "stdout",
          "text": [
            "Enter your name: karthik\n",
            "Enter your age: 45\n",
            "Enter your school name: Prince\n",
            "Enter your degree: MCA\n",
            "Hi, my name is karthik, and I am 45 years old.\n"
          ]
        }
      ]
    },
    {
      "cell_type": "code",
      "source": [],
      "metadata": {
        "id": "8T1giecSnxwJ"
      },
      "execution_count": null,
      "outputs": []
    },
    {
      "cell_type": "code",
      "source": [
        "a = 43\n",
        "b = 34\n",
        "\n",
        "# Adding two nos\n",
        "sum = a + b\n",
        "\n",
        "# printing values\n",
        "print(\"Sum of\", a, \"and\", b , \"is\", sum)"
      ],
      "metadata": {
        "colab": {
          "base_uri": "https://localhost:8080/"
        },
        "id": "G0Jg10WSm_De",
        "outputId": "e25e58b4-bc72-4a8d-c4aa-87905c8e4905"
      },
      "execution_count": 11,
      "outputs": [
        {
          "output_type": "stream",
          "name": "stdout",
          "text": [
            "Sum of 43 and 34 is 77\n"
          ]
        }
      ]
    },
    {
      "cell_type": "code",
      "source": [
        "a= 76\n",
        "b= 31\n",
        "print(\"Float Div: \",a//b)"
      ],
      "metadata": {
        "colab": {
          "base_uri": "https://localhost:8080/"
        },
        "id": "pk8VO7hYvsfQ",
        "outputId": "8056d5c8-f9dc-4f3f-b9be-6df384447fd1"
      },
      "execution_count": 12,
      "outputs": [
        {
          "output_type": "stream",
          "name": "stdout",
          "text": [
            "Float Div:  2\n"
          ]
        }
      ]
    },
    {
      "cell_type": "markdown",
      "source": [],
      "metadata": {
        "id": "xVFua78HjOa7"
      }
    }
  ]
}